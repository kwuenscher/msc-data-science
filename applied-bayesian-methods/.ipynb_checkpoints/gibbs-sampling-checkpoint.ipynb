{
 "cells": [
  {
   "cell_type": "code",
   "execution_count": 5,
   "metadata": {
    "collapsed": true
   },
   "outputs": [],
   "source": [
    "import numpy as np\n",
    "import pandas as pd"
   ]
  },
  {
   "cell_type": "code",
   "execution_count": 7,
   "metadata": {
    "collapsed": false
   },
   "outputs": [],
   "source": [
    "y_i = np.array([5, 1, 5, 14, 3, 19, 1, 1, 4, 22])\n",
    "t_i = np.array([94.3, 15.7, 62.9, 125.8, 5.2, 31.4, 1.0, 1.0, 2.1, 10.5])\n",
    "data_table = pd.DataFrame(np.c_[y_i, t_i], columns=[\"y_i\", \"t_i\"])"
   ]
  },
  {
   "cell_type": "code",
   "execution_count": 10,
   "metadata": {
    "collapsed": false
   },
   "outputs": [
    {
     "data": {
      "text/html": [
       "<div>\n",
       "<table border=\"1\" class=\"dataframe\">\n",
       "  <thead>\n",
       "    <tr style=\"text-align: right;\">\n",
       "      <th></th>\n",
       "      <th>0</th>\n",
       "      <th>1</th>\n",
       "      <th>2</th>\n",
       "      <th>3</th>\n",
       "      <th>4</th>\n",
       "      <th>5</th>\n",
       "      <th>6</th>\n",
       "      <th>7</th>\n",
       "      <th>8</th>\n",
       "      <th>9</th>\n",
       "    </tr>\n",
       "  </thead>\n",
       "  <tbody>\n",
       "    <tr>\n",
       "      <th>y_i</th>\n",
       "      <td>5.0</td>\n",
       "      <td>1.0</td>\n",
       "      <td>5.0</td>\n",
       "      <td>14.0</td>\n",
       "      <td>3.0</td>\n",
       "      <td>19.0</td>\n",
       "      <td>1</td>\n",
       "      <td>1</td>\n",
       "      <td>4.0</td>\n",
       "      <td>22.0</td>\n",
       "    </tr>\n",
       "    <tr>\n",
       "      <th>t_i</th>\n",
       "      <td>94.3</td>\n",
       "      <td>15.7</td>\n",
       "      <td>62.9</td>\n",
       "      <td>125.8</td>\n",
       "      <td>5.2</td>\n",
       "      <td>31.4</td>\n",
       "      <td>1</td>\n",
       "      <td>1</td>\n",
       "      <td>2.1</td>\n",
       "      <td>10.5</td>\n",
       "    </tr>\n",
       "  </tbody>\n",
       "</table>\n",
       "</div>"
      ],
      "text/plain": [
       "        0     1     2      3    4     5  6  7    8     9\n",
       "y_i   5.0   1.0   5.0   14.0  3.0  19.0  1  1  4.0  22.0\n",
       "t_i  94.3  15.7  62.9  125.8  5.2  31.4  1  1  2.1  10.5"
      ]
     },
     "execution_count": 10,
     "metadata": {},
     "output_type": "execute_result"
    }
   ],
   "source": [
    "data_table.T"
   ]
  },
  {
   "cell_type": "markdown",
   "metadata": {},
   "source": [
    "Assuming:\n",
    "\n",
    "$$\n",
    "Y_{i} | \\theta_{i} \\sim Poisson(\\theta_{i} t_{i}) \\\\\n",
    "$$\n",
    "\n",
    "All probabilistic distributions: \n",
    "\n",
    "$$\n",
    "Y_{i} | \\theta_{i} \\sim Poisson(\\theta_{i} t_{i}) \\\\ \\theta_{i} | \\alpha \\space \\beta \\sim Gamma(\\alpha, \\beta) \\\\\n",
    "\\alpha \\sim Exponential(0.001) \\\\ \\beta \\sim Exponential(0.001)\n",
    "$$\n",
    "\n",
    "\n",
    "The joined Posterior is of the form: \n",
    "\n",
    "$$ \n",
    "p( \\textbf{$\\theta$}, \\alpha, \\beta \\space | \\space\\textbf{y}) \\propto\\bigg\\{ \\prod^{N}_{i = 0}p(\\theta_{i} \\space | \\space \\alpha, \\beta) \\bigg \\} \\bigg \\{ \\prod^{N}_{i = 0} p(y_{i}\\space | \\theta_{i}) \\bigg \\} p(\\alpha)p(\\beta) \\\\\n",
    "$$\n",
    "\n",
    "$$ p( \\textbf{$\\theta$}, \\alpha, \\beta \\space | \\space\\textbf{y}) \\propto \\prod e^{-\\theta_{i}t_{i}}\\frac{t_{i}\\theta_{i}^{k}}{k!} \\times \\prod\\frac{\\beta^{\\alpha}}{\\Gamma\\alpha}\\theta_{i}^{\\alpha-1}e^{-\\beta \\theta_{i}} \\times 0.001e^{-0.001\\alpha}\\times 0.001e^{-0.001\\beta} \\\\\n",
    "$$\n",
    "\n",
    "From here we can compute the full conditional posterior distirbutions\n",
    "\n",
    "$$\n",
    "p(\\alpha \\space|\\space \\beta, \\theta_{i}) = \\prod\\frac{\\beta^{\\alpha}}{\\Gamma\\alpha}\\theta_{i}^{\\alpha-1}e^{-\\beta \\theta_{i}} \\times 0.001e^{-0.001\\alpha} \\\\ \n",
    "p(\\beta \\space|\\space \\alpha, \\theta_{i}) = \\prod\\frac{\\beta^{\\alpha}}{\\Gamma\\alpha}\\theta_{i}^{\\alpha-1}e^{-\\beta \\theta_{i}} \\times 0.001e^{-0.001\\beta} \\\\\n",
    "p(\\theta \\space|\\space \\alpha, \\beta) = \\prod e^{-\\theta_{i}t_{i}}\\frac{t_{i}\\theta_{i}^{k}}{k!} \\times \\prod\\frac{\\beta^{\\alpha}}{\\Gamma\\alpha}\\theta_{i}^{\\alpha-1}e^{-\\beta \\theta_{i}} \\\\\n",
    "$$\n",
    "\n",
    "Gibb Sampler: \n",
    "\n",
    "* Find all full conditional distributions.\n",
    "* We set all variables to their initial value (sampling from the prior distribution).\n",
    "* In this case we set:\n",
    "\n",
    "\n"
   ]
  },
  {
   "cell_type": "markdown",
   "metadata": {},
   "source": [
    "$$$$"
   ]
  }
 ],
 "metadata": {
  "kernelspec": {
   "display_name": "Python 3",
   "language": "python",
   "name": "python3"
  },
  "language_info": {
   "codemirror_mode": {
    "name": "ipython",
    "version": 3
   },
   "file_extension": ".py",
   "mimetype": "text/x-python",
   "name": "python",
   "nbconvert_exporter": "python",
   "pygments_lexer": "ipython3",
   "version": "3.5.2"
  }
 },
 "nbformat": 4,
 "nbformat_minor": 0
}
