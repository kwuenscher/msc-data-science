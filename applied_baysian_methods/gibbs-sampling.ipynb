{
 "cells": [
  {
   "cell_type": "code",
   "execution_count": 1,
   "metadata": {
    "collapsed": false
   },
   "outputs": [
    {
     "name": "stdout",
     "output_type": "stream",
     "text": [
      "Populating the interactive namespace from numpy and matplotlib\n"
     ]
    }
   ],
   "source": [
    "import numpy as np\n",
    "import pandas as pd\n",
    "import math\n",
    "%pylab inline\n",
    "from scipy.special import gamma"
   ]
  },
  {
   "cell_type": "markdown",
   "metadata": {},
   "source": [
    "## Graphical Models "
   ]
  },
  {
   "cell_type": "markdown",
   "metadata": {},
   "source": [
    "### Hierachical Models"
   ]
  },
  {
   "cell_type": "markdown",
   "metadata": {},
   "source": [
    "* All covariates determine the response, hence use dashed lines, in Bayesian regression problem. \n",
    "* Everything that is not random denote as square box. \n",
    "* The full conditional distributions can be either be computed using Markov Blankets or the full joined distribution where all terms where the conditioned variable does not appear are thrown out. "
   ]
  },
  {
   "cell_type": "code",
   "execution_count": 2,
   "metadata": {
    "collapsed": false
   },
   "outputs": [],
   "source": [
    "y_i = np.array([5, 1, 5, 14, 3, 19, 1, 1, 4, 22])\n",
    "t_i = np.array([94.3, 15.7, 62.9, 125.8, 5.2, 31.4, 1.0, 1.0, 2.1, 10.5])\n",
    "theta_t = y_i * t_i\n",
    "data_table = pd.DataFrame(np.c_[y_i, t_i, theta_t], columns=[\"y_i\", \"t_i\", \"theta_t\"])"
   ]
  },
  {
   "cell_type": "code",
   "execution_count": 3,
   "metadata": {
    "collapsed": false
   },
   "outputs": [
    {
     "data": {
      "text/html": [
       "<div>\n",
       "<table border=\"1\" class=\"dataframe\">\n",
       "  <thead>\n",
       "    <tr style=\"text-align: right;\">\n",
       "      <th></th>\n",
       "      <th>0</th>\n",
       "      <th>1</th>\n",
       "      <th>2</th>\n",
       "      <th>3</th>\n",
       "      <th>4</th>\n",
       "      <th>5</th>\n",
       "      <th>6</th>\n",
       "      <th>7</th>\n",
       "      <th>8</th>\n",
       "      <th>9</th>\n",
       "    </tr>\n",
       "  </thead>\n",
       "  <tbody>\n",
       "    <tr>\n",
       "      <th>y_i</th>\n",
       "      <td>5.0</td>\n",
       "      <td>1.0</td>\n",
       "      <td>5.0</td>\n",
       "      <td>14.0</td>\n",
       "      <td>3.0</td>\n",
       "      <td>19.0</td>\n",
       "      <td>1</td>\n",
       "      <td>1</td>\n",
       "      <td>4.0</td>\n",
       "      <td>22.0</td>\n",
       "    </tr>\n",
       "    <tr>\n",
       "      <th>t_i</th>\n",
       "      <td>94.3</td>\n",
       "      <td>15.7</td>\n",
       "      <td>62.9</td>\n",
       "      <td>125.8</td>\n",
       "      <td>5.2</td>\n",
       "      <td>31.4</td>\n",
       "      <td>1</td>\n",
       "      <td>1</td>\n",
       "      <td>2.1</td>\n",
       "      <td>10.5</td>\n",
       "    </tr>\n",
       "    <tr>\n",
       "      <th>theta_t</th>\n",
       "      <td>471.5</td>\n",
       "      <td>15.7</td>\n",
       "      <td>314.5</td>\n",
       "      <td>1761.2</td>\n",
       "      <td>15.6</td>\n",
       "      <td>596.6</td>\n",
       "      <td>1</td>\n",
       "      <td>1</td>\n",
       "      <td>8.4</td>\n",
       "      <td>231.0</td>\n",
       "    </tr>\n",
       "  </tbody>\n",
       "</table>\n",
       "</div>"
      ],
      "text/plain": [
       "             0     1      2       3     4      5  6  7    8      9\n",
       "y_i        5.0   1.0    5.0    14.0   3.0   19.0  1  1  4.0   22.0\n",
       "t_i       94.3  15.7   62.9   125.8   5.2   31.4  1  1  2.1   10.5\n",
       "theta_t  471.5  15.7  314.5  1761.2  15.6  596.6  1  1  8.4  231.0"
      ]
     },
     "execution_count": 3,
     "metadata": {},
     "output_type": "execute_result"
    }
   ],
   "source": [
    "data_table.T"
   ]
  },
  {
   "cell_type": "markdown",
   "metadata": {},
   "source": [
    "Assuming:\n",
    "\n",
    "$$\n",
    "Y_{i} | \\theta_{i} \\sim Poisson(\\theta_{i} t_{i}) \\\\\n",
    "$$\n",
    "\n",
    "All probabilistic distributions: \n",
    "\n",
    "$$\n",
    "Y_{i} | \\theta_{i} \\sim Poisson(\\theta_{i} t_{i}) \\\\ \\theta_{i} | \\alpha \\space \\beta \\sim Gamma(\\alpha, \\beta) \\\\\n",
    "\\alpha \\sim Exponential(0.001) \\\\ \\beta \\sim Exponential(0.001)\n",
    "$$\n",
    "\n",
    "\n",
    "The joined Posterior is of the form: \n",
    "\n",
    "$$ \n",
    "p( \\textbf{$\\theta$}, \\alpha, \\beta \\space | \\space\\textbf{y}) \\propto\\bigg\\{ \\prod^{N}_{i = 0}p(\\theta_{i} \\space | \\space \\alpha, \\beta) \\bigg \\} \\bigg \\{ \\prod^{N}_{i = 0} p(y_{i}\\space | \\theta_{i}) \\bigg \\} p(\\alpha)p(\\beta) \\\\\n",
    "$$\n",
    "\n",
    "$$ p( \\textbf{$\\theta$}, \\alpha, \\beta \\space | \\space\\textbf{y}) \\propto \\prod e^{-\\theta_{i}t_{i}}\\frac{t_{i}\\theta_{i}^{k}}{k!} \\times \\prod\\frac{\\beta^{\\alpha}}{\\Gamma\\alpha}\\theta_{i}^{\\alpha-1}e^{-\\beta \\theta_{i}} \\times 0.001e^{-0.001\\alpha}\\times 0.001e^{-0.001\\beta} \\\\\n",
    "$$\n",
    "\n",
    "From here we can compute the full conditional posterior distirbutions\n",
    "\n",
    "$$\n",
    "p(\\alpha \\space|\\space \\beta, \\theta_{i}) = \\prod\\frac{\\beta^{\\alpha}}{\\Gamma\\alpha}\\theta_{i}^{\\alpha-1}e^{-\\beta \\theta_{i}} \\times 0.001e^{-0.001\\alpha} \\\\ \n",
    "p(\\beta \\space|\\space \\alpha, \\theta_{i}) = \\prod\\frac{\\beta^{\\alpha}}{\\Gamma\\alpha}\\theta_{i}^{\\alpha-1}e^{-\\beta \\theta_{i}} \\times 0.001e^{-0.001\\beta} \\\\\n",
    "p(\\alpha \\space | \\space \\beta, \\theta) = \\bigg (\\frac{\\beta^{\\alpha}}{\\Gamma \\alpha}\\bigg )^{n} e^{(\\alpha-1)\\sum ln \\theta_{i} - 0.001 \\alpha}\\\\ $$\n",
    "\n",
    "$$\n",
    "p(\\beta \\space | \\space \\alpha, \\theta) = \\beta^{\\alpha n } e^{-n\\bar{\\theta}\\beta - 0.001\\beta} \\\\\n",
    "$$\n",
    "\n",
    "Gibb Sampler: \n",
    "\n",
    "* Find all full conditional distributions.\n",
    "* We set all variables to their initial value (sampling from the prior distribution).\n",
    "* In this case we set:\n",
    "\n",
    "\n"
   ]
  },
  {
   "cell_type": "markdown",
   "metadata": {},
   "source": [
    "$p(\\theta \\space|\\space \\alpha, \\beta) = 0.001e^{-0.001\\alpha}\\times 0.001e^{-0.001\\beta} \\times \\prod\\frac{\\beta^{\\alpha}}{\\Gamma\\alpha}\\theta_{i}^{\\alpha-1}e^{-\\beta \\theta_{i}} $"
   ]
  },
  {
   "cell_type": "code",
   "execution_count": 4,
   "metadata": {
    "collapsed": true
   },
   "outputs": [],
   "source": [
    "initial_values = {\n",
    "    \"alpha\": 1, \n",
    "    \"beta\": 2, \n",
    "}"
   ]
  },
  {
   "cell_type": "code",
   "execution_count": 67,
   "metadata": {
    "collapsed": false
   },
   "outputs": [
    {
     "name": "stdout",
     "output_type": "stream",
     "text": [
      "-3.4165010000000002\n"
     ]
    },
    {
     "data": {
      "text/plain": [
       "0.029760564403886785"
      ]
     },
     "execution_count": 67,
     "metadata": {},
     "output_type": "execute_result"
    }
   ],
   "source": [
    "sample_beta(0.00141971016708, 0.001, data_table)"
   ]
  },
  {
   "cell_type": "code",
   "execution_count": 23,
   "metadata": {
    "collapsed": false
   },
   "outputs": [
    {
     "name": "stdout",
     "output_type": "stream",
     "text": [
      "0.0\n"
     ]
    }
   ],
   "source": [
    "def sample_alpha(alpha, beta, data):\n",
    "    s = sum(data[\"theta_t\"])\n",
    "    ln_s = sum(log(data[\"theta_t\"]))\n",
    "    n = len(data[\"theta_t\"])\n",
    "    gam = (beta**alpha / gamma(alpha))**n\n",
    "    \n",
    "    t1 = exp((alpha-1)*sum(ln_s)) - 0.999*log(alpha)\n",
    "    t2 = exp(-beta*s - 0.001*alpha)\n",
    "    print(t2*t1)\n",
    "\n",
    "sample_alpha(0.1, 0.9, data_table)"
   ]
  },
  {
   "cell_type": "code",
   "execution_count": 2,
   "metadata": {
    "collapsed": false
   },
   "outputs": [
    {
     "data": {
      "text/plain": [
       "inf"
      ]
     },
     "execution_count": 2,
     "metadata": {},
     "output_type": "execute_result"
    }
   ],
   "source": [
    "gamma(0)"
   ]
  },
  {
   "cell_type": "code",
   "execution_count": 31,
   "metadata": {
    "collapsed": false
   },
   "outputs": [
    {
     "data": {
      "text/plain": [
       "3.2501578468880439e-20"
      ]
     },
     "execution_count": 31,
     "metadata": {},
     "output_type": "execute_result"
    }
   ],
   "source": [
    "X = np.random.normal(2.32, 0.4232, 100)\n",
    "\n",
    "mu = 2\n",
    "tau = 0.2\n",
    "\n",
    "def sample_mu(mu, tau, x): \n",
    "    n = len(x)\n",
    "    ta = (n*tau+10e-6)\n",
    "    m = (n*tau/(10e-6+n*tau))*mean(x)\n",
    "    \n",
    "    t1 = sqrt(ta/(2*pi))\n",
    "    t2 = exp(-(ta/2)*((tau-m)**2))\n",
    "    return t1*t2\n",
    "    \n",
    "    \n",
    "sample_mu(mu, tau, X)\n"
   ]
  },
  {
   "cell_type": "code",
   "execution_count": 45,
   "metadata": {
    "collapsed": false
   },
   "outputs": [
    {
     "data": {
      "text/plain": [
       "1.8208852395598014"
      ]
     },
     "execution_count": 45,
     "metadata": {},
     "output_type": "execute_result"
    }
   ],
   "source": [
    "4**(0.43232)"
   ]
  },
  {
   "cell_type": "code",
   "execution_count": 27,
   "metadata": {
    "collapsed": false
   },
   "outputs": [
    {
     "data": {
      "text/plain": [
       "0     471.5\n",
       "1      15.7\n",
       "2     314.5\n",
       "3    1761.2\n",
       "4      15.6\n",
       "5     596.6\n",
       "6       1.0\n",
       "7       1.0\n",
       "8       8.4\n",
       "9     231.0\n",
       "Name: theta_t, dtype: float64"
      ]
     },
     "execution_count": 27,
     "metadata": {},
     "output_type": "execute_result"
    }
   ],
   "source": [
    "data_table[\"theta_t\"]"
   ]
  },
  {
   "cell_type": "markdown",
   "metadata": {},
   "source": [
    "$$$$"
   ]
  }
 ],
 "metadata": {
  "kernelspec": {
   "display_name": "Python 3",
   "language": "python",
   "name": "python3"
  },
  "language_info": {
   "codemirror_mode": {
    "name": "ipython",
    "version": 3
   },
   "file_extension": ".py",
   "mimetype": "text/x-python",
   "name": "python",
   "nbconvert_exporter": "python",
   "pygments_lexer": "ipython3",
   "version": "3.5.2"
  }
 },
 "nbformat": 4,
 "nbformat_minor": 0
}
